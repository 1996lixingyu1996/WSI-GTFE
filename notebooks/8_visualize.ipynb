{
 "cells": [
  {
   "cell_type": "code",
   "execution_count": null,
   "metadata": {},
   "outputs": [],
   "source": [
    "from pathflowai.utils import load_sql_df\n",
    "import torch\n",
    "import os \n",
    "import sys, os\n",
    "sys.path.insert(0,os.path.abspath(\"dgm\"))\n",
    "import umap, numba\n",
    "from sklearn.preprocessing import LabelEncoder\n",
    "from torch_cluster import knn_graph\n",
    "from torch_geometric.data import Data \n",
    "import numpy as np\n",
    "from torch_geometric.utils import train_test_split_edges\n",
    "import os\n",
    "os.environ['CUDA_VISIBLE_DEVICES']=\"0\"\n",
    "import argparse\n",
    "from dgm.dgm import DGM\n",
    "from dgm.plotting import *\n",
    "from dgm.utils import *\n",
    "from dgm.models import GraphClassifier, DGILearner\n",
    "from torch_geometric.utils.convert import to_networkx\n",
    "from torch_geometric.data import InMemoryDataset,DataLoader\n",
    "import os,glob, pandas as pd\n",
    "from sklearn.utils.class_weight import compute_class_weight\n",
    "import pickle\n",
    "import fire\n",
    "import networkx as nx"
   ]
  },
  {
   "cell_type": "code",
   "execution_count": null,
   "metadata": {},
   "outputs": [],
   "source": [
    "# load graph dataset and image\n",
    "i,j=0,0 # cv_split, slide_idx in split\n",
    "arr=cv2.resize(np.load(\"slideID.npy\"),None,fx=1/6,fy=1/6,interpolation=cv2.INTER_CUBIC)\n",
    "cv_splits=pickle.load(open(\"cv_splits/cv_splits.pkl\",'rb'))[i]['test_idx']\n",
    "pred=torch.load(\"predictions/predictions.pth\")[-len(cv_splits):][j]\n",
    "graph_dataset=pickle.load(open(\"graph_datasets/graph_dataset.pkl\",'rb'))\n",
    "X=pickle.load(open(f\"design.matix.{i}\",'rb'))"
   ]
  },
  {
   "cell_type": "code",
   "execution_count": null,
   "metadata": {},
   "outputs": [],
   "source": [
    "import copy\n",
    "def display_results(out_graph,res,predict=False,custom_colors=[],img=None,alpha=None,scatter=True,width_scale=20,node_scale=90):\n",
    "    xy=pred[\"xy\"]\n",
    "    y_orig=pred[(\"y\" if not predict else 'y_update')] \n",
    "    y=copy.deepcopy(y_orig)\n",
    "    graph=out_graph\n",
    "    binary=False\n",
    "    node_color=res['mnode_to_color']; node_size=res['node_sizes']; edge_weight=res['edge_weight']\n",
    "    if custom_colors: node_color=custom_colors\n",
    "    node_list=res['node_list']; name='wsi'\n",
    "    cmap = cm.coolwarm\n",
    "    cmap = cm.get_cmap(cmap, 100)\n",
    "    plt.set_cmap(cmap)\n",
    "\n",
    "    f = plt.figure(figsize=(10,10))\n",
    "    ax = f.add_subplot(1, 1, 1)\n",
    "\n",
    "    edges = graph.edges()\n",
    "    weights = np.array([edge_weight[(min(u, v), max(u, v))] for u, v in edges], dtype=np.float32)\n",
    "\n",
    "    width = weights * width_scale\n",
    "\n",
    "    node_size = np.sqrt(node_size) * node_scale\n",
    "    c=y.flatten()\n",
    "\n",
    "    scale=6\n",
    "    pos = {}\n",
    "    for node in graph.nodes():\n",
    "        if len(res['mnode_to_nodes'][node])-1:\n",
    "            pos[node]=np.array([xy[i] for i in res['mnode_to_nodes'][node]]).mean(0)/scale\n",
    "        else:\n",
    "            pos[node]=xy[list(res['mnode_to_nodes'][node])[0]]/scale\n",
    "            \n",
    "    if not isinstance(img,type(None)): plt.imshow(img)\n",
    "\n",
    "    if scatter: plt.scatter(xy[:,0]/scale,xy[:,1]/scale,c=c,alpha=alpha)\n",
    "    nx.draw(graph, pos=pos, node_color=node_color, width=width, node_size=node_size,\n",
    "            node_list=node_list, ax=ax, cmap=cmap)\n",
    "    return None"
   ]
  },
  {
   "cell_type": "code",
   "execution_count": null,
   "metadata": {},
   "outputs": [],
   "source": [
    "dgm_res=X['dgm_res'][list(X['dgm_res'].keys())[j]]\n",
    "display_results(dgm_res[0],dgm_res[1],custom_colors=node_colors,img=arr[::-1,:],alpha=0.1,scatter=False,node_scale=50)"
   ]
  }
 ],
 "metadata": {
  "kernelspec": {
   "display_name": "Python 3",
   "language": "python",
   "name": "python3"
  },
  "language_info": {
   "codemirror_mode": {
    "name": "ipython",
    "version": 3
   },
   "file_extension": ".py",
   "mimetype": "text/x-python",
   "name": "python",
   "nbconvert_exporter": "python",
   "pygments_lexer": "ipython3",
   "version": "3.7.7"
  }
 },
 "nbformat": 4,
 "nbformat_minor": 2
}

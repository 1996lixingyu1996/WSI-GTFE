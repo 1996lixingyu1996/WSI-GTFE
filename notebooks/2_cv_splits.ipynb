{
 "cells": [
  {
   "cell_type": "code",
   "execution_count": null,
   "metadata": {},
   "outputs": [],
   "source": [
    "import pickle, numpy as np, pandas as pd\n",
    "from sklearn.model_selection import StratifiedKFold,KFold,train_test_split\n",
    "\n",
    "\n",
    "def generate_cv_splits(graph_dataset,out_pkl,f=0.7,n_split=10,y=None):\n",
    "    datasets=pickle.load(open(graph_dataset,'rb'))\n",
    "    IDs=datasets['df']['ID'].unique()\n",
    "    if \"component\" in datasets['df'].columns:\n",
    "        IDs=(datasets['df']['ID']+\"_\"+datasets['df']['component'].astype(str)).unique()\n",
    "    idx=np.arange(len(datasets['graph_dataset']))\n",
    "\n",
    "    X=pd.DataFrame(dict(idx=idx))\n",
    "    cv_splits={}\n",
    "    for i,(train_index, test_index) in enumerate((StratifiedKFold if not isinstance(y,type(None)) else KFold)(n_splits=n_split, random_state=42, shuffle=True).split(X['idx'],y)):\n",
    "        cv_splits[i]=dict(train_idx=train_index,\n",
    "                         test_idx=test_index)\n",
    "\n",
    "    for i in range(len(cv_splits)):\n",
    "        new_i=i+1\n",
    "        if new_i==len(cv_splits):\n",
    "            new_i=0\n",
    "        X2=pd.DataFrame(dict(idx=cv_splits[new_i]['test_idx'],y=y[cv_splits[new_i]['test_idx']] if not isinstance(y,type(None)) else None))\n",
    "        cv_splits[i]['val_idx']=train_test_split(X2['idx'],train_size=f,stratify=None if isinstance(y,type(None)) else y[X2['idx'].values])[0].values\n",
    "        cv_splits[i]['train_idx']=np.setdiff1d(cv_splits[i]['train_idx'],cv_splits[i]['val_idx'])\n",
    "\n",
    "    pickle.dump(cv_splits,open(out_pkl,'wb'))"
   ]
  },
  {
   "cell_type": "code",
   "execution_count": null,
   "metadata": {},
   "outputs": [],
   "source": [
    "for k in [\"your_data_set\"]:\n",
    "    generate_cv_splits(f\"{k}/graph_datasets/imagenet_graph_data.pkl\",f\"{k}/graph_datasets/cv_splits.pkl\",f=0.7,n_split=10,y=None)"
   ]
  }
 ],
 "metadata": {
  "kernelspec": {
   "display_name": "Python 3",
   "language": "python",
   "name": "python3"
  },
  "language_info": {
   "codemirror_mode": {
    "name": "ipython",
    "version": 3
   },
   "file_extension": ".py",
   "mimetype": "text/x-python",
   "name": "python",
   "nbconvert_exporter": "python",
   "pygments_lexer": "ipython3",
   "version": "3.6.8"
  }
 },
 "nbformat": 4,
 "nbformat_minor": 2
}
